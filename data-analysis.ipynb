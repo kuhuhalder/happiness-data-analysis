{
 "cells": [
  {
   "cell_type": "code",
   "execution_count": 60,
   "metadata": {},
   "outputs": [],
   "source": [
    "import pandas as pd\n",
    "import seaborn as sb\n",
    "# import plotly\n",
    "# import plotly.plotly as py\n",
    "import matplotlib.pyplot as plt\n",
    "sb.set_style('whitegrid')\n",
    "import scipy.stats as stat"
   ]
  },
  {
   "cell_type": "code",
   "execution_count": 26,
   "metadata": {},
   "outputs": [],
   "source": [
    "data2022 = pd.read_csv('data/2022.csv', delimiter = ',')"
   ]
  },
  {
   "cell_type": "code",
   "execution_count": 27,
   "metadata": {},
   "outputs": [
    {
     "data": {
      "text/html": [
       "<div>\n",
       "<style scoped>\n",
       "    .dataframe tbody tr th:only-of-type {\n",
       "        vertical-align: middle;\n",
       "    }\n",
       "\n",
       "    .dataframe tbody tr th {\n",
       "        vertical-align: top;\n",
       "    }\n",
       "\n",
       "    .dataframe thead th {\n",
       "        text-align: right;\n",
       "    }\n",
       "</style>\n",
       "<table border=\"1\" class=\"dataframe\">\n",
       "  <thead>\n",
       "    <tr style=\"text-align: right;\">\n",
       "      <th></th>\n",
       "      <th>RANK</th>\n",
       "      <th>Country</th>\n",
       "      <th>Happiness score</th>\n",
       "      <th>Whisker-high</th>\n",
       "      <th>Whisker-low</th>\n",
       "      <th>Dystopia (1.83) + residual</th>\n",
       "      <th>Explained by: GDP per capita</th>\n",
       "      <th>Explained by: Social support</th>\n",
       "      <th>Explained by: Healthy life expectancy</th>\n",
       "      <th>Explained by: Freedom to make life choices</th>\n",
       "      <th>Explained by: Generosity</th>\n",
       "      <th>Explained by: Perceptions of corruption</th>\n",
       "    </tr>\n",
       "  </thead>\n",
       "  <tbody>\n",
       "    <tr>\n",
       "      <th>0</th>\n",
       "      <td>1</td>\n",
       "      <td>Finland</td>\n",
       "      <td>7,821</td>\n",
       "      <td>7,886</td>\n",
       "      <td>7,756</td>\n",
       "      <td>2,518</td>\n",
       "      <td>1,892</td>\n",
       "      <td>1,258</td>\n",
       "      <td>0,775</td>\n",
       "      <td>0,736</td>\n",
       "      <td>0,109</td>\n",
       "      <td>0,534</td>\n",
       "    </tr>\n",
       "    <tr>\n",
       "      <th>1</th>\n",
       "      <td>2</td>\n",
       "      <td>Denmark</td>\n",
       "      <td>7,636</td>\n",
       "      <td>7,710</td>\n",
       "      <td>7,563</td>\n",
       "      <td>2,226</td>\n",
       "      <td>1,953</td>\n",
       "      <td>1,243</td>\n",
       "      <td>0,777</td>\n",
       "      <td>0,719</td>\n",
       "      <td>0,188</td>\n",
       "      <td>0,532</td>\n",
       "    </tr>\n",
       "    <tr>\n",
       "      <th>2</th>\n",
       "      <td>3</td>\n",
       "      <td>Iceland</td>\n",
       "      <td>7,557</td>\n",
       "      <td>7,651</td>\n",
       "      <td>7,464</td>\n",
       "      <td>2,320</td>\n",
       "      <td>1,936</td>\n",
       "      <td>1,320</td>\n",
       "      <td>0,803</td>\n",
       "      <td>0,718</td>\n",
       "      <td>0,270</td>\n",
       "      <td>0,191</td>\n",
       "    </tr>\n",
       "    <tr>\n",
       "      <th>3</th>\n",
       "      <td>4</td>\n",
       "      <td>Switzerland</td>\n",
       "      <td>7,512</td>\n",
       "      <td>7,586</td>\n",
       "      <td>7,437</td>\n",
       "      <td>2,153</td>\n",
       "      <td>2,026</td>\n",
       "      <td>1,226</td>\n",
       "      <td>0,822</td>\n",
       "      <td>0,677</td>\n",
       "      <td>0,147</td>\n",
       "      <td>0,461</td>\n",
       "    </tr>\n",
       "    <tr>\n",
       "      <th>4</th>\n",
       "      <td>5</td>\n",
       "      <td>Netherlands</td>\n",
       "      <td>7,415</td>\n",
       "      <td>7,471</td>\n",
       "      <td>7,359</td>\n",
       "      <td>2,137</td>\n",
       "      <td>1,945</td>\n",
       "      <td>1,206</td>\n",
       "      <td>0,787</td>\n",
       "      <td>0,651</td>\n",
       "      <td>0,271</td>\n",
       "      <td>0,419</td>\n",
       "    </tr>\n",
       "  </tbody>\n",
       "</table>\n",
       "</div>"
      ],
      "text/plain": [
       "   RANK      Country Happiness score Whisker-high Whisker-low  \\\n",
       "0     1      Finland           7,821        7,886       7,756   \n",
       "1     2      Denmark           7,636        7,710       7,563   \n",
       "2     3      Iceland           7,557        7,651       7,464   \n",
       "3     4  Switzerland           7,512        7,586       7,437   \n",
       "4     5  Netherlands           7,415        7,471       7,359   \n",
       "\n",
       "  Dystopia (1.83) + residual Explained by: GDP per capita  \\\n",
       "0                      2,518                        1,892   \n",
       "1                      2,226                        1,953   \n",
       "2                      2,320                        1,936   \n",
       "3                      2,153                        2,026   \n",
       "4                      2,137                        1,945   \n",
       "\n",
       "  Explained by: Social support Explained by: Healthy life expectancy  \\\n",
       "0                        1,258                                 0,775   \n",
       "1                        1,243                                 0,777   \n",
       "2                        1,320                                 0,803   \n",
       "3                        1,226                                 0,822   \n",
       "4                        1,206                                 0,787   \n",
       "\n",
       "  Explained by: Freedom to make life choices Explained by: Generosity  \\\n",
       "0                                      0,736                    0,109   \n",
       "1                                      0,719                    0,188   \n",
       "2                                      0,718                    0,270   \n",
       "3                                      0,677                    0,147   \n",
       "4                                      0,651                    0,271   \n",
       "\n",
       "  Explained by: Perceptions of corruption  \n",
       "0                                   0,534  \n",
       "1                                   0,532  \n",
       "2                                   0,191  \n",
       "3                                   0,461  \n",
       "4                                   0,419  "
      ]
     },
     "execution_count": 27,
     "metadata": {},
     "output_type": "execute_result"
    }
   ],
   "source": [
    "data2022.head()"
   ]
  },
  {
   "cell_type": "code",
   "execution_count": 28,
   "metadata": {},
   "outputs": [
    {
     "data": {
      "text/plain": [
       "Index(['RANK', 'Country', 'Happiness score', 'Whisker-high', 'Whisker-low',\n",
       "       'Dystopia (1.83) + residual', 'Explained by: GDP per capita',\n",
       "       'Explained by: Social support', 'Explained by: Healthy life expectancy',\n",
       "       'Explained by: Freedom to make life choices',\n",
       "       'Explained by: Generosity', 'Explained by: Perceptions of corruption'],\n",
       "      dtype='object')"
      ]
     },
     "execution_count": 28,
     "metadata": {},
     "output_type": "execute_result"
    }
   ],
   "source": [
    "data2022.columns"
   ]
  },
  {
   "cell_type": "code",
   "execution_count": 29,
   "metadata": {},
   "outputs": [],
   "source": [
    "data2022.rename(columns = {'Explained by: GDP per capita':'GDP', 'Explained by: Social support':'Social Support'}, inplace = True)"
   ]
  },
  {
   "cell_type": "code",
   "execution_count": 30,
   "metadata": {},
   "outputs": [
    {
     "data": {
      "text/plain": [
       "array(['1,892', '1,953', '1,936', '2,026', '1,945', '2,209', '1,920',\n",
       "       '1,997', '1,826', '1,852', '1,931', '1,900', '2,129', '1,924',\n",
       "       '1,886', '1,982', '1,867', '1,815', '1,907', '1,863', '1,854',\n",
       "       '1,810', '1,584', '1,998', '1,870', '1,897', '2,149', '1,719',\n",
       "       '1,808', '1,615', '1,834', '1,362', '1,838', '1,804', '1,736',\n",
       "       '1,793', '1,715', '1,462', '1,274', '1,668', '1,732', '1,550',\n",
       "       '1,651', '1,105', '1,552', '1,705', '1,758', '1,265', '1,904',\n",
       "       '1,748', '1,591', '1,219', '1,835', '1,111', '1,760', '1,592',\n",
       "       '1,703', '1,851', '1,268', '1,535', '1,417', '1,296', '1,069',\n",
       "       '1,562', '1,452', '1,468', '1,393', '1,538', '1,689', '1,256',\n",
       "       '1,508', '1,409', '1,397', '1,573', '1,352', '1,252', '1,484',\n",
       "       '1,685', '1,957', '1,434', '0,966', '0,984', '1,625', '1,476',\n",
       "       '1,382', '1,094', '1,505', '1,439', '1,425', '1,458', '0,785',\n",
       "       '1,060', '1,239', '1,363', '0,636', '1,411', '0,950', '1,208',\n",
       "       '0,578', '0,968', '0,933', '0,570', '1,467', '1,459', '1,289',\n",
       "       '0,000', '0,848', '1,410', '1,112', '1,707', '0,779', '1,019',\n",
       "       '0,932', '0,899', '0,777', '1,079', '1,032', '1,350', '1,049',\n",
       "       '1,148', '0,792', '1,292', '1,038', '1,415', '0,670', '1,388',\n",
       "       '0,662', '0,788', '0,691', '1,100', '1,324', '0,771', '1,167',\n",
       "       '0,930', '0,648', '0,686', '0,839', '1,503', '0,947', '1,392',\n",
       "       '0,758', nan], dtype=object)"
      ]
     },
     "execution_count": 30,
     "metadata": {},
     "output_type": "execute_result"
    }
   ],
   "source": [
    "data2022['GDP'].unique()"
   ]
  },
  {
   "cell_type": "code",
   "execution_count": 34,
   "metadata": {},
   "outputs": [],
   "source": [
    "data2022.dropna(inplace =True)"
   ]
  },
  {
   "cell_type": "code",
   "execution_count": 35,
   "metadata": {},
   "outputs": [],
   "source": [
    "data2022['GDP'] = data2022['GDP'].str.replace(',', '').astype(int)\n"
   ]
  },
  {
   "cell_type": "code",
   "execution_count": 24,
   "metadata": {},
   "outputs": [],
   "source": [
    "data2022['GDP'] = pd.to_numeric(data2022['GDP'], errors='coerce').fillna(0).astype(int)"
   ]
  },
  {
   "cell_type": "code",
   "execution_count": 36,
   "metadata": {},
   "outputs": [
    {
     "data": {
      "text/plain": [
       "0      1892\n",
       "1      1953\n",
       "2      1936\n",
       "3      2026\n",
       "4      1945\n",
       "       ... \n",
       "141    1503\n",
       "142     785\n",
       "143     947\n",
       "144    1392\n",
       "145     758\n",
       "Name: GDP, Length: 146, dtype: int64"
      ]
     },
     "execution_count": 36,
     "metadata": {},
     "output_type": "execute_result"
    }
   ],
   "source": [
    "data2022['GDP']"
   ]
  },
  {
   "cell_type": "code",
   "execution_count": 37,
   "metadata": {},
   "outputs": [],
   "source": [
    "data2022['GDP'] = data2022['GDP'].fillna(data2022['GDP'].mean())"
   ]
  },
  {
   "cell_type": "code",
   "execution_count": 40,
   "metadata": {},
   "outputs": [],
   "source": [
    "data2022['Happiness score'] = data2022['Happiness score'].str.replace(',', '').astype(int)\n"
   ]
  },
  {
   "cell_type": "code",
   "execution_count": 41,
   "metadata": {},
   "outputs": [
    {
     "data": {
      "text/plain": [
       "Index(['RANK', 'Country', 'Happiness score', 'Whisker-high', 'Whisker-low',\n",
       "       'Dystopia (1.83) + residual', 'GDP', 'Social Support',\n",
       "       'Explained by: Healthy life expectancy',\n",
       "       'Explained by: Freedom to make life choices',\n",
       "       'Explained by: Generosity', 'Explained by: Perceptions of corruption'],\n",
       "      dtype='object')"
      ]
     },
     "execution_count": 41,
     "metadata": {},
     "output_type": "execute_result"
    }
   ],
   "source": [
    "data2022.columns"
   ]
  },
  {
   "cell_type": "code",
   "execution_count": 64,
   "metadata": {},
   "outputs": [
    {
     "data": {
      "image/png": "[encoded data removed]",
      "text/plain": [
       "<Figure size 432x432 with 3 Axes>"
      ]
     },
     "metadata": {},
     "output_type": "display_data"
    }
   ],
   "source": [
    "sb.jointplot(x=data2022['GDP'],y=data2022['Happiness score'],kind='reg')\n",
    "plt.xlabel('GDP')\n",
    "plt.ylabel('Happiness Score')\n",
    "plt.savefig('Picture1.png')\n",
    "plt.show()"
   ]
  },
  {
   "cell_type": "code",
   "execution_count": 62,
   "metadata": {},
   "outputs": [
    {
     "name": "stdout",
     "output_type": "stream",
     "text": [
      "The correlation coefficient is:  0.7636771320095697\n",
      "The p-value is:  3.728911941227192e-29\n"
     ]
    }
   ],
   "source": [
    "import scipy.stats as stats\n",
    "\n",
    "corr, p_value = stats.pearsonr(data2022['GDP'], data2022['Happiness score'])\n",
    "print(\"The correlation coefficient is: \", corr)\n",
    "print(\"The p-value is: \", p_value)"
   ]
  },
  {
   "cell_type": "code",
   "execution_count": null,
   "metadata": {},
   "outputs": [],
   "source": []
  }
 ],
 "metadata": {
  "kernelspec": {
   "display_name": "env",
   "language": "python",
   "name": "env"
  },
  "language_info": {
   "codemirror_mode": {
    "name": "ipython",
    "version": 3
   },
   "file_extension": ".py",
   "mimetype": "text/x-python",
   "name": "python",
   "nbconvert_exporter": "python",
   "pygments_lexer": "ipython3",
   "version": "3.8.5"
  }
 },
 "nbformat": 4,
 "nbformat_minor": 4
}
